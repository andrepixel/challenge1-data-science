{
  "nbformat": 4,
  "nbformat_minor": 0,
  "metadata": {
    "colab": {
      "provenance": []
    },
    "kernelspec": {
      "name": "python3",
      "display_name": "Python 3"
    },
    "language_info": {
      "name": "python"
    }
  },
  "cells": [
    {
      "cell_type": "markdown",
      "source": [
        "### Importação dos dados\n",
        "\n"
      ],
      "metadata": {
        "id": "RhEdWd9YUR6H"
      }
    },
    {
      "cell_type": "code",
      "execution_count": 32,
      "metadata": {
        "id": "T3EvaeQ_INIL"
      },
      "outputs": [],
      "source": [
        "import pandas as pd\n",
        "\n",
        "url = \"https://raw.githubusercontent.com/alura-es-cursos/challenge1-data-science/refs/heads/main/base-de-dados-challenge-1/loja_1.csv\"\n",
        "url2 = \"https://raw.githubusercontent.com/alura-es-cursos/challenge1-data-science/refs/heads/main/base-de-dados-challenge-1/loja_2.csv\"\n",
        "url3 = \"https://raw.githubusercontent.com/alura-es-cursos/challenge1-data-science/refs/heads/main/base-de-dados-challenge-1/loja_3.csv\"\n",
        "url4 = \"https://raw.githubusercontent.com/alura-es-cursos/challenge1-data-science/refs/heads/main/base-de-dados-challenge-1/loja_4.csv\"\n",
        "\n",
        "loja1 = pd.read_csv(url)\n",
        "loja2 = pd.read_csv(url2)\n",
        "loja3 = pd.read_csv(url3)\n",
        "loja4 = pd.read_csv(url4)"
      ]
    },
    {
      "cell_type": "code",
      "source": [
        "print(\"Loja 1\")\n",
        "\n",
        "loja1.head()"
      ],
      "metadata": {
        "colab": {
          "base_uri": "https://localhost:8080/",
          "height": 383
        },
        "id": "Dpml54ygEtLd",
        "outputId": "bb9bb5b7-cb45-4c69-bc56-84b9c776bfa7"
      },
      "execution_count": 33,
      "outputs": [
        {
          "output_type": "stream",
          "name": "stdout",
          "text": [
            "Loja 1\n"
          ]
        },
        {
          "output_type": "execute_result",
          "data": {
            "text/plain": [
              "                 Produto Categoria do Produto    Preço      Frete  \\\n",
              "0     Assistente virtual          eletronicos   219.08   9.249790   \n",
              "1         Mesa de jantar               moveis   256.35  11.234305   \n",
              "2      Jogo de tabuleiro           brinquedos   279.51  21.262681   \n",
              "3            Micro-ondas     eletrodomesticos  1009.99  54.667344   \n",
              "4  Cadeira de escritório               moveis   446.99  26.964689   \n",
              "\n",
              "  Data da Compra        Vendedor Local da compra  Avaliação da compra  \\\n",
              "0     16/01/2021     Pedro Gomes              SP                    4   \n",
              "1     18/05/2022  Beatriz Moraes              RJ                    1   \n",
              "2     15/03/2021      João Souza              DF                    1   \n",
              "3     03/05/2022      João Souza              RS                    4   \n",
              "4     07/11/2020   Larissa Alves              MG                    5   \n",
              "\n",
              "  Tipo de pagamento  Quantidade de parcelas    lat    lon  \n",
              "0    cartao_credito                       8 -22.19 -48.79  \n",
              "1    cartao_credito                       4 -22.25 -42.66  \n",
              "2    cartao_credito                       1 -15.83 -47.86  \n",
              "3            boleto                       1 -30.17 -53.50  \n",
              "4            boleto                       1 -18.10 -44.38  "
            ],
            "text/html": [
              "\n",
              "  <div id=\"df-8478ebac-c5ec-4add-8bb0-46b333678ad9\" class=\"colab-df-container\">\n",
              "    <div>\n",
              "<style scoped>\n",
              "    .dataframe tbody tr th:only-of-type {\n",
              "        vertical-align: middle;\n",
              "    }\n",
              "\n",
              "    .dataframe tbody tr th {\n",
              "        vertical-align: top;\n",
              "    }\n",
              "\n",
              "    .dataframe thead th {\n",
              "        text-align: right;\n",
              "    }\n",
              "</style>\n",
              "<table border=\"1\" class=\"dataframe\">\n",
              "  <thead>\n",
              "    <tr style=\"text-align: right;\">\n",
              "      <th></th>\n",
              "      <th>Produto</th>\n",
              "      <th>Categoria do Produto</th>\n",
              "      <th>Preço</th>\n",
              "      <th>Frete</th>\n",
              "      <th>Data da Compra</th>\n",
              "      <th>Vendedor</th>\n",
              "      <th>Local da compra</th>\n",
              "      <th>Avaliação da compra</th>\n",
              "      <th>Tipo de pagamento</th>\n",
              "      <th>Quantidade de parcelas</th>\n",
              "      <th>lat</th>\n",
              "      <th>lon</th>\n",
              "    </tr>\n",
              "  </thead>\n",
              "  <tbody>\n",
              "    <tr>\n",
              "      <th>0</th>\n",
              "      <td>Assistente virtual</td>\n",
              "      <td>eletronicos</td>\n",
              "      <td>219.08</td>\n",
              "      <td>9.249790</td>\n",
              "      <td>16/01/2021</td>\n",
              "      <td>Pedro Gomes</td>\n",
              "      <td>SP</td>\n",
              "      <td>4</td>\n",
              "      <td>cartao_credito</td>\n",
              "      <td>8</td>\n",
              "      <td>-22.19</td>\n",
              "      <td>-48.79</td>\n",
              "    </tr>\n",
              "    <tr>\n",
              "      <th>1</th>\n",
              "      <td>Mesa de jantar</td>\n",
              "      <td>moveis</td>\n",
              "      <td>256.35</td>\n",
              "      <td>11.234305</td>\n",
              "      <td>18/05/2022</td>\n",
              "      <td>Beatriz Moraes</td>\n",
              "      <td>RJ</td>\n",
              "      <td>1</td>\n",
              "      <td>cartao_credito</td>\n",
              "      <td>4</td>\n",
              "      <td>-22.25</td>\n",
              "      <td>-42.66</td>\n",
              "    </tr>\n",
              "    <tr>\n",
              "      <th>2</th>\n",
              "      <td>Jogo de tabuleiro</td>\n",
              "      <td>brinquedos</td>\n",
              "      <td>279.51</td>\n",
              "      <td>21.262681</td>\n",
              "      <td>15/03/2021</td>\n",
              "      <td>João Souza</td>\n",
              "      <td>DF</td>\n",
              "      <td>1</td>\n",
              "      <td>cartao_credito</td>\n",
              "      <td>1</td>\n",
              "      <td>-15.83</td>\n",
              "      <td>-47.86</td>\n",
              "    </tr>\n",
              "    <tr>\n",
              "      <th>3</th>\n",
              "      <td>Micro-ondas</td>\n",
              "      <td>eletrodomesticos</td>\n",
              "      <td>1009.99</td>\n",
              "      <td>54.667344</td>\n",
              "      <td>03/05/2022</td>\n",
              "      <td>João Souza</td>\n",
              "      <td>RS</td>\n",
              "      <td>4</td>\n",
              "      <td>boleto</td>\n",
              "      <td>1</td>\n",
              "      <td>-30.17</td>\n",
              "      <td>-53.50</td>\n",
              "    </tr>\n",
              "    <tr>\n",
              "      <th>4</th>\n",
              "      <td>Cadeira de escritório</td>\n",
              "      <td>moveis</td>\n",
              "      <td>446.99</td>\n",
              "      <td>26.964689</td>\n",
              "      <td>07/11/2020</td>\n",
              "      <td>Larissa Alves</td>\n",
              "      <td>MG</td>\n",
              "      <td>5</td>\n",
              "      <td>boleto</td>\n",
              "      <td>1</td>\n",
              "      <td>-18.10</td>\n",
              "      <td>-44.38</td>\n",
              "    </tr>\n",
              "  </tbody>\n",
              "</table>\n",
              "</div>\n",
              "    <div class=\"colab-df-buttons\">\n",
              "\n",
              "  <div class=\"colab-df-container\">\n",
              "    <button class=\"colab-df-convert\" onclick=\"convertToInteractive('df-8478ebac-c5ec-4add-8bb0-46b333678ad9')\"\n",
              "            title=\"Convert this dataframe to an interactive table.\"\n",
              "            style=\"display:none;\">\n",
              "\n",
              "  <svg xmlns=\"http://www.w3.org/2000/svg\" height=\"24px\" viewBox=\"0 -960 960 960\">\n",
              "    <path d=\"M120-120v-720h720v720H120Zm60-500h600v-160H180v160Zm220 220h160v-160H400v160Zm0 220h160v-160H400v160ZM180-400h160v-160H180v160Zm440 0h160v-160H620v160ZM180-180h160v-160H180v160Zm440 0h160v-160H620v160Z\"/>\n",
              "  </svg>\n",
              "    </button>\n",
              "\n",
              "  <style>\n",
              "    .colab-df-container {\n",
              "      display:flex;\n",
              "      gap: 12px;\n",
              "    }\n",
              "\n",
              "    .colab-df-convert {\n",
              "      background-color: #E8F0FE;\n",
              "      border: none;\n",
              "      border-radius: 50%;\n",
              "      cursor: pointer;\n",
              "      display: none;\n",
              "      fill: #1967D2;\n",
              "      height: 32px;\n",
              "      padding: 0 0 0 0;\n",
              "      width: 32px;\n",
              "    }\n",
              "\n",
              "    .colab-df-convert:hover {\n",
              "      background-color: #E2EBFA;\n",
              "      box-shadow: 0px 1px 2px rgba(60, 64, 67, 0.3), 0px 1px 3px 1px rgba(60, 64, 67, 0.15);\n",
              "      fill: #174EA6;\n",
              "    }\n",
              "\n",
              "    .colab-df-buttons div {\n",
              "      margin-bottom: 4px;\n",
              "    }\n",
              "\n",
              "    [theme=dark] .colab-df-convert {\n",
              "      background-color: #3B4455;\n",
              "      fill: #D2E3FC;\n",
              "    }\n",
              "\n",
              "    [theme=dark] .colab-df-convert:hover {\n",
              "      background-color: #434B5C;\n",
              "      box-shadow: 0px 1px 3px 1px rgba(0, 0, 0, 0.15);\n",
              "      filter: drop-shadow(0px 1px 2px rgba(0, 0, 0, 0.3));\n",
              "      fill: #FFFFFF;\n",
              "    }\n",
              "  </style>\n",
              "\n",
              "    <script>\n",
              "      const buttonEl =\n",
              "        document.querySelector('#df-8478ebac-c5ec-4add-8bb0-46b333678ad9 button.colab-df-convert');\n",
              "      buttonEl.style.display =\n",
              "        google.colab.kernel.accessAllowed ? 'block' : 'none';\n",
              "\n",
              "      async function convertToInteractive(key) {\n",
              "        const element = document.querySelector('#df-8478ebac-c5ec-4add-8bb0-46b333678ad9');\n",
              "        const dataTable =\n",
              "          await google.colab.kernel.invokeFunction('convertToInteractive',\n",
              "                                                    [key], {});\n",
              "        if (!dataTable) return;\n",
              "\n",
              "        const docLinkHtml = 'Like what you see? Visit the ' +\n",
              "          '<a target=\"_blank\" href=https://colab.research.google.com/notebooks/data_table.ipynb>data table notebook</a>'\n",
              "          + ' to learn more about interactive tables.';\n",
              "        element.innerHTML = '';\n",
              "        dataTable['output_type'] = 'display_data';\n",
              "        await google.colab.output.renderOutput(dataTable, element);\n",
              "        const docLink = document.createElement('div');\n",
              "        docLink.innerHTML = docLinkHtml;\n",
              "        element.appendChild(docLink);\n",
              "      }\n",
              "    </script>\n",
              "  </div>\n",
              "\n",
              "\n",
              "<div id=\"df-0a30d008-d575-4809-9935-aed8b1c2e408\">\n",
              "  <button class=\"colab-df-quickchart\" onclick=\"quickchart('df-0a30d008-d575-4809-9935-aed8b1c2e408')\"\n",
              "            title=\"Suggest charts\"\n",
              "            style=\"display:none;\">\n",
              "\n",
              "<svg xmlns=\"http://www.w3.org/2000/svg\" height=\"24px\"viewBox=\"0 0 24 24\"\n",
              "     width=\"24px\">\n",
              "    <g>\n",
              "        <path d=\"M19 3H5c-1.1 0-2 .9-2 2v14c0 1.1.9 2 2 2h14c1.1 0 2-.9 2-2V5c0-1.1-.9-2-2-2zM9 17H7v-7h2v7zm4 0h-2V7h2v10zm4 0h-2v-4h2v4z\"/>\n",
              "    </g>\n",
              "</svg>\n",
              "  </button>\n",
              "\n",
              "<style>\n",
              "  .colab-df-quickchart {\n",
              "      --bg-color: #E8F0FE;\n",
              "      --fill-color: #1967D2;\n",
              "      --hover-bg-color: #E2EBFA;\n",
              "      --hover-fill-color: #174EA6;\n",
              "      --disabled-fill-color: #AAA;\n",
              "      --disabled-bg-color: #DDD;\n",
              "  }\n",
              "\n",
              "  [theme=dark] .colab-df-quickchart {\n",
              "      --bg-color: #3B4455;\n",
              "      --fill-color: #D2E3FC;\n",
              "      --hover-bg-color: #434B5C;\n",
              "      --hover-fill-color: #FFFFFF;\n",
              "      --disabled-bg-color: #3B4455;\n",
              "      --disabled-fill-color: #666;\n",
              "  }\n",
              "\n",
              "  .colab-df-quickchart {\n",
              "    background-color: var(--bg-color);\n",
              "    border: none;\n",
              "    border-radius: 50%;\n",
              "    cursor: pointer;\n",
              "    display: none;\n",
              "    fill: var(--fill-color);\n",
              "    height: 32px;\n",
              "    padding: 0;\n",
              "    width: 32px;\n",
              "  }\n",
              "\n",
              "  .colab-df-quickchart:hover {\n",
              "    background-color: var(--hover-bg-color);\n",
              "    box-shadow: 0 1px 2px rgba(60, 64, 67, 0.3), 0 1px 3px 1px rgba(60, 64, 67, 0.15);\n",
              "    fill: var(--button-hover-fill-color);\n",
              "  }\n",
              "\n",
              "  .colab-df-quickchart-complete:disabled,\n",
              "  .colab-df-quickchart-complete:disabled:hover {\n",
              "    background-color: var(--disabled-bg-color);\n",
              "    fill: var(--disabled-fill-color);\n",
              "    box-shadow: none;\n",
              "  }\n",
              "\n",
              "  .colab-df-spinner {\n",
              "    border: 2px solid var(--fill-color);\n",
              "    border-color: transparent;\n",
              "    border-bottom-color: var(--fill-color);\n",
              "    animation:\n",
              "      spin 1s steps(1) infinite;\n",
              "  }\n",
              "\n",
              "  @keyframes spin {\n",
              "    0% {\n",
              "      border-color: transparent;\n",
              "      border-bottom-color: var(--fill-color);\n",
              "      border-left-color: var(--fill-color);\n",
              "    }\n",
              "    20% {\n",
              "      border-color: transparent;\n",
              "      border-left-color: var(--fill-color);\n",
              "      border-top-color: var(--fill-color);\n",
              "    }\n",
              "    30% {\n",
              "      border-color: transparent;\n",
              "      border-left-color: var(--fill-color);\n",
              "      border-top-color: var(--fill-color);\n",
              "      border-right-color: var(--fill-color);\n",
              "    }\n",
              "    40% {\n",
              "      border-color: transparent;\n",
              "      border-right-color: var(--fill-color);\n",
              "      border-top-color: var(--fill-color);\n",
              "    }\n",
              "    60% {\n",
              "      border-color: transparent;\n",
              "      border-right-color: var(--fill-color);\n",
              "    }\n",
              "    80% {\n",
              "      border-color: transparent;\n",
              "      border-right-color: var(--fill-color);\n",
              "      border-bottom-color: var(--fill-color);\n",
              "    }\n",
              "    90% {\n",
              "      border-color: transparent;\n",
              "      border-bottom-color: var(--fill-color);\n",
              "    }\n",
              "  }\n",
              "</style>\n",
              "\n",
              "  <script>\n",
              "    async function quickchart(key) {\n",
              "      const quickchartButtonEl =\n",
              "        document.querySelector('#' + key + ' button');\n",
              "      quickchartButtonEl.disabled = true;  // To prevent multiple clicks.\n",
              "      quickchartButtonEl.classList.add('colab-df-spinner');\n",
              "      try {\n",
              "        const charts = await google.colab.kernel.invokeFunction(\n",
              "            'suggestCharts', [key], {});\n",
              "      } catch (error) {\n",
              "        console.error('Error during call to suggestCharts:', error);\n",
              "      }\n",
              "      quickchartButtonEl.classList.remove('colab-df-spinner');\n",
              "      quickchartButtonEl.classList.add('colab-df-quickchart-complete');\n",
              "    }\n",
              "    (() => {\n",
              "      let quickchartButtonEl =\n",
              "        document.querySelector('#df-0a30d008-d575-4809-9935-aed8b1c2e408 button');\n",
              "      quickchartButtonEl.style.display =\n",
              "        google.colab.kernel.accessAllowed ? 'block' : 'none';\n",
              "    })();\n",
              "  </script>\n",
              "</div>\n",
              "\n",
              "    </div>\n",
              "  </div>\n"
            ],
            "application/vnd.google.colaboratory.intrinsic+json": {
              "type": "dataframe",
              "variable_name": "loja1",
              "summary": "{\n  \"name\": \"loja1\",\n  \"rows\": 2359,\n  \"fields\": [\n    {\n      \"column\": \"Produto\",\n      \"properties\": {\n        \"dtype\": \"category\",\n        \"num_unique_values\": 51,\n        \"samples\": [\n          \"Viol\\u00e3o\",\n          \"Bola de basquete\",\n          \"Smartwatch\"\n        ],\n        \"semantic_type\": \"\",\n        \"description\": \"\"\n      }\n    },\n    {\n      \"column\": \"Categoria do Produto\",\n      \"properties\": {\n        \"dtype\": \"category\",\n        \"num_unique_values\": 8,\n        \"samples\": [\n          \"moveis\",\n          \"esporte e lazer\",\n          \"eletronicos\"\n        ],\n        \"semantic_type\": \"\",\n        \"description\": \"\"\n      }\n    },\n    {\n      \"column\": \"Pre\\u00e7o\",\n      \"properties\": {\n        \"dtype\": \"number\",\n        \"std\": 819.5827782539145,\n        \"min\": 10.07,\n        \"max\": 3969.38,\n        \"num_unique_values\": 2315,\n        \"samples\": [\n          446.11,\n          107.31,\n          65.86\n        ],\n        \"semantic_type\": \"\",\n        \"description\": \"\"\n      }\n    },\n    {\n      \"column\": \"Frete\",\n      \"properties\": {\n        \"dtype\": \"number\",\n        \"std\": 43.814183327408166,\n        \"min\": 0.0,\n        \"max\": 214.3770604781,\n        \"num_unique_values\": 2149,\n        \"samples\": [\n          83.815279607,\n          16.069664669,\n          14.0344876928\n        ],\n        \"semantic_type\": \"\",\n        \"description\": \"\"\n      }\n    },\n    {\n      \"column\": \"Data da Compra\",\n      \"properties\": {\n        \"dtype\": \"object\",\n        \"num_unique_values\": 1018,\n        \"samples\": [\n          \"15/09/2022\",\n          \"03/06/2020\",\n          \"06/11/2021\"\n        ],\n        \"semantic_type\": \"\",\n        \"description\": \"\"\n      }\n    },\n    {\n      \"column\": \"Vendedor\",\n      \"properties\": {\n        \"dtype\": \"category\",\n        \"num_unique_values\": 14,\n        \"samples\": [\n          \"Juliana Costa\",\n          \"Mariana Ferreira\",\n          \"Pedro Gomes\"\n        ],\n        \"semantic_type\": \"\",\n        \"description\": \"\"\n      }\n    },\n    {\n      \"column\": \"Local da compra\",\n      \"properties\": {\n        \"dtype\": \"category\",\n        \"num_unique_values\": 26,\n        \"samples\": [\n          \"TO\",\n          \"RN\",\n          \"SP\"\n        ],\n        \"semantic_type\": \"\",\n        \"description\": \"\"\n      }\n    },\n    {\n      \"column\": \"Avalia\\u00e7\\u00e3o da compra\",\n      \"properties\": {\n        \"dtype\": \"number\",\n        \"std\": 1,\n        \"min\": 1,\n        \"max\": 5,\n        \"num_unique_values\": 5,\n        \"samples\": [\n          1,\n          2,\n          5\n        ],\n        \"semantic_type\": \"\",\n        \"description\": \"\"\n      }\n    },\n    {\n      \"column\": \"Tipo de pagamento\",\n      \"properties\": {\n        \"dtype\": \"category\",\n        \"num_unique_values\": 4,\n        \"samples\": [\n          \"boleto\",\n          \"cartao_debito\",\n          \"cartao_credito\"\n        ],\n        \"semantic_type\": \"\",\n        \"description\": \"\"\n      }\n    },\n    {\n      \"column\": \"Quantidade de parcelas\",\n      \"properties\": {\n        \"dtype\": \"number\",\n        \"std\": 2,\n        \"min\": 1,\n        \"max\": 24,\n        \"num_unique_values\": 15,\n        \"samples\": [\n          7,\n          14,\n          8\n        ],\n        \"semantic_type\": \"\",\n        \"description\": \"\"\n      }\n    },\n    {\n      \"column\": \"lat\",\n      \"properties\": {\n        \"dtype\": \"number\",\n        \"std\": 5.372399916530833,\n        \"min\": -30.17,\n        \"max\": 1.41,\n        \"num_unique_values\": 26,\n        \"samples\": [\n          -9.46,\n          -5.81,\n          -22.19\n        ],\n        \"semantic_type\": \"\",\n        \"description\": \"\"\n      }\n    },\n    {\n      \"column\": \"lon\",\n      \"properties\": {\n        \"dtype\": \"number\",\n        \"std\": 4.183180020544179,\n        \"min\": -70.55,\n        \"max\": -36.59,\n        \"num_unique_values\": 26,\n        \"samples\": [\n          -48.26,\n          -36.59,\n          -48.79\n        ],\n        \"semantic_type\": \"\",\n        \"description\": \"\"\n      }\n    }\n  ]\n}"
            }
          },
          "metadata": {},
          "execution_count": 33
        }
      ]
    },
    {
      "cell_type": "markdown",
      "source": [
        "#1. Análise do faturamento\n"
      ],
      "metadata": {
        "id": "X62IW3KFUIYm"
      }
    },
    {
      "cell_type": "code",
      "source": [
        "from typing import Any"
      ],
      "metadata": {
        "id": "08cTyWebY5yd"
      },
      "execution_count": 67,
      "outputs": []
    },
    {
      "cell_type": "code",
      "source": [
        "def sumRevenue(values_price:pd.Series) -> float:\n",
        "  revenue = 0.0\n",
        "\n",
        "  for product_price in list(values_price):\n",
        "    revenue = revenue + product_price\n",
        "\n",
        "  return revenue"
      ],
      "metadata": {
        "id": "v5FsZP4_LA1C"
      },
      "execution_count": 68,
      "outputs": []
    },
    {
      "cell_type": "code",
      "source": [
        "revenue1 = sumRevenue(loja1.Preço)\n",
        "revenue1 = round(revenue1 + sumRevenue(loja1.Frete),2)\n",
        "\n",
        "print(f\"Faturamento Loja 1: R${revenue1}\\n\")\n",
        "\n",
        "revenue2 = sumRevenue(loja2.Preço)\n",
        "revenue2 = round(revenue2 + sumRevenue(loja2.Frete),2)\n",
        "\n",
        "print(f\"Faturamento Loja 2: R${revenue2}\\n\")\n",
        "\n",
        "revenue3 = sumRevenue(loja3.Preço)\n",
        "revenue3 = round(revenue3 + sumRevenue(loja3.Frete),2)\n",
        "\n",
        "print(f\"Faturamento Loja 3: R${revenue3}\\n\")\n",
        "\n",
        "revenue4 = sumRevenue(loja4.Preço)\n",
        "revenue4 = round(revenue4 + sumRevenue(loja4.Frete),2)\n",
        "\n",
        "print(f\"Faturamento Loja 4: R${revenue4}\\n\")"
      ],
      "metadata": {
        "id": "xykobSftV64I",
        "colab": {
          "base_uri": "https://localhost:8080/"
        },
        "outputId": "65644840-125d-4848-e7cf-b0b0c8866eec"
      },
      "execution_count": 69,
      "outputs": [
        {
          "output_type": "stream",
          "name": "stdout",
          "text": [
            "Faturamento Loja 1: R$1616347.09\n",
            "\n",
            "Faturamento Loja 2: R$1567773.22\n",
            "\n",
            "Faturamento Loja 3: R$1542047.69\n",
            "\n",
            "Faturamento Loja 4: R$1458253.46\n",
            "\n"
          ]
        }
      ]
    },
    {
      "cell_type": "markdown",
      "source": [
        "# 2. Vendas por Categoria\n"
      ],
      "metadata": {
        "id": "2V_vcAPzWZmR"
      }
    },
    {
      "cell_type": "code",
      "source": [
        "types_of_products = list(loja1['Categoria do Produto'].drop_duplicates())\n",
        "types_of_products.sort()\n",
        "\n",
        "price_to_types_products = [0 for _ in range(len(types_of_products))]\n",
        "sum_prices_to_types_products = [[type, sum_price] for type, sum_price in zip(types_of_products, price_to_types_products)]\n",
        "\n",
        "#----\n",
        "\n",
        "# Agrupa por 'Categoria do Produto' e soma os preços\n",
        "sum_prices_by_category = loja1.groupby('Categoria do Produto')['Preço'].sum().reset_index()\n",
        "\n",
        "# Ordena por categoria (opcional)\n",
        "sum_prices_by_category = sum_prices_by_category.sort_values(by=['Categoria do Produto'])\n",
        "\n",
        "# Exibe os resultados\n",
        "print(\"Soma total por categoria:\\n\")\n",
        "print(sum_prices_by_category)"
      ],
      "metadata": {
        "id": "c_zZrzennnHo",
        "colab": {
          "base_uri": "https://localhost:8080/"
        },
        "outputId": "294d982f-5dcb-4d09-a2f6-e745d7760f92"
      },
      "execution_count": 39,
      "outputs": [
        {
          "output_type": "stream",
          "name": "stdout",
          "text": [
            "Soma total por categoria:\n",
            "\n",
            "    Categoria do Produto      Preço\n",
            "0             brinquedos   23993.78\n",
            "1       eletrodomesticos  484913.36\n",
            "2            eletronicos  572659.23\n",
            "3        esporte e lazer   52387.55\n",
            "4  instrumentos musicais  121731.69\n",
            "5                 livros   11713.92\n",
            "6                 moveis  250178.11\n",
            "7  utilidades domesticas   16931.48\n"
          ]
        }
      ]
    },
    {
      "cell_type": "code",
      "source": [
        "def getSumValuesOfProductsToCategory(types_of_products: list, sum_prices_to_types_products: list[list[Any]], loja: pd.DataFrame) -> list[list[Any]]:\n",
        "  for j in range(len(types_of_products)):\n",
        "    for i in range(len(loja.Preço)):\n",
        "      if loja['Categoria do Produto'][i] == types_of_products[j]:\n",
        "        sum_prices_to_types_products[j][1] = sum_prices_to_types_products[j][1] + loja.Preço[i]\n",
        "\n",
        "  for i in range(len(types_of_products)):\n",
        "    value = sum_prices_to_types_products[i][1]\n",
        "    value = float(value)\n",
        "    sum_prices_to_types_products[i][1] = round(value, 2)\n",
        "\n",
        "  return sum_prices_to_types_products"
      ],
      "metadata": {
        "id": "XjdlUtZToR4Q"
      },
      "execution_count": 71,
      "outputs": []
    },
    {
      "cell_type": "code",
      "source": [
        "print(\"Soma total por categoria:\\n\")\n",
        "\n",
        "for i in range(0,4):\n",
        "  if i == 0:\n",
        "    values = getSumValuesOfProductsToCategory(types_of_products, sum_prices_to_types_products, loja1)\n",
        "\n",
        "  if i == 1:\n",
        "    values = getSumValuesOfProductsToCategory(types_of_products, sum_prices_to_types_products, loja2)\n",
        "\n",
        "  if i == 2:\n",
        "    values = getSumValuesOfProductsToCategory(types_of_products, sum_prices_to_types_products, loja3)\n",
        "\n",
        "  if i == 3:\n",
        "    values = getSumValuesOfProductsToCategory(types_of_products, sum_prices_to_types_products, loja4)\n",
        "\n",
        "  print(f\"{types_of_products[i]} - R${sum_prices_to_types_products[i][1]}\\n\")\n",
        "\n",
        "  for i in range(len(sum_prices_to_types_products)):\n",
        "    sum_prices_to_types_products[i][1] = 0"
      ],
      "metadata": {
        "id": "LjOaDf-Oq9YK"
      },
      "execution_count": null,
      "outputs": []
    },
    {
      "cell_type": "code",
      "source": [
        " print(\"Soma total por categoria:\\n\")\n",
        "\n",
        "sum = 0.0\n",
        "\n",
        "#get keys of column 'Categoria..'\n",
        "type_product = list(loja1['Categoria do Produto'].drop_duplicates())\n",
        "\n",
        "for\n",
        "\n",
        "# for i in range(0,4):\n",
        "#   if i == 0:\n",
        "#     sum = getSumValuesOfProductsToCategory(types_of_products, sum_prices_to_types_products, loja1)\n",
        "\n",
        "#   if i == 1:\n",
        "#     sum = getSumValuesOfProductsToCategory(types_of_products, sum_prices_to_types_products, loja2)\n",
        "\n",
        "#   if i == 2:\n",
        "#     sum = getSumValuesOfProductsToCategory(types_of_products, sum_prices_to_types_products, loja3)\n",
        "\n",
        "#   if i == 3:\n",
        "#     sum = getSumValuesOfProductsToCategory(types_of_products, sum_prices_to_types_products, loja4)\n",
        "\n",
        "#   print(f\"{types_of_products[i]} - R${sum_prices_to_types_products[i][1]}\\n\")\n",
        "\n",
        "#   for i in range(len(sum_prices_to_types_products)):\n",
        "#     sum_prices_to_types_products[i][1] = 0"
      ],
      "metadata": {
        "id": "gzPk20jopbdI",
        "outputId": "71a67a28-d79f-4ce0-b64a-a449a4b4ca81",
        "colab": {
          "base_uri": "https://localhost:8080/"
        }
      },
      "execution_count": 37,
      "outputs": [
        {
          "output_type": "stream",
          "name": "stdout",
          "text": [
            "Soma total por categoria:\n",
            "\n",
            "['eletronicos', 'moveis', 'brinquedos', 'eletrodomesticos', 'utilidades domesticas', 'esporte e lazer', 'livros', 'instrumentos musicais']\n"
          ]
        }
      ]
    },
    {
      "cell_type": "markdown",
      "source": [
        "# 3. Média de Avaliação das Lojas"
      ],
      "metadata": {
        "id": "Rq6tU_xSY3jk"
      }
    },
    {
      "cell_type": "code",
      "source": [
        "print(\"Média das avaliações cada Loja:\\n\")\n",
        "\n",
        "average = 0.0\n",
        "\n",
        "for i in range(0,4):\n",
        "  if i == 0:\n",
        "    average = loja1['Avaliação da compra'].mean().round(2)\n",
        "\n",
        "  if i == 1:\n",
        "    average = loja2['Avaliação da compra'].mean().round(2)\n",
        "\n",
        "  if i == 2:\n",
        "    average = loja3['Avaliação da compra'].mean().round(2)\n",
        "\n",
        "  if i == 3:\n",
        "    average = loja4['Avaliação da compra'].mean().round(2)\n",
        "\n",
        "  print(f\"Loja {i+1} - Avaliação média é {average}\\n\")"
      ],
      "metadata": {
        "id": "3xfToL0SXzk9",
        "outputId": "245dde90-b211-49d6-b72c-c415b200e28b",
        "colab": {
          "base_uri": "https://localhost:8080/"
        }
      },
      "execution_count": 27,
      "outputs": [
        {
          "output_type": "stream",
          "name": "stdout",
          "text": [
            "Média das avaliações cada Loja:\n",
            "\n",
            "Loja 1 - Avaliação média é 3.98\n",
            "\n",
            "Loja 2 - Avaliação média é 4.04\n",
            "\n",
            "Loja 3 - Avaliação média é 4.05\n",
            "\n",
            "Loja 4 - Avaliação média é 4.0\n",
            "\n"
          ]
        }
      ]
    },
    {
      "cell_type": "markdown",
      "source": [
        "# 4. Produtos Mais e Menos Vendidos"
      ],
      "metadata": {
        "id": "DmNp1KPBZCm-"
      }
    },
    {
      "cell_type": "code",
      "source": [
        "print(\"Produto mais vendido e menos vendido de cada Loja:\\n\")\n",
        "\n",
        "best_selling_product = ''\n",
        "quantity_best_selling_product = 0\n",
        "worst_selling_product = ''\n",
        "quantity_worst_selling_product = 0\n",
        "\n",
        "for i in range(0,4):\n",
        "  if i == 0:\n",
        "    best_selling_product = loja1['Produto'].value_counts().index[0]\n",
        "    quantity_best_selling_product = loja1['Produto'].value_counts().iloc[0]\n",
        "    worst_selling_product = loja1['Produto'].value_counts().index[-1]\n",
        "    quantity_worst_selling_product = loja1['Produto'].value_counts().iloc[-1]\n",
        "\n",
        "  if i == 1:\n",
        "    best_selling_product = loja2['Produto'].value_counts().index[0]\n",
        "    quantity_best_selling_product = loja2['Produto'].value_counts().iloc[0]\n",
        "    worst_selling_product = loja2['Produto'].value_counts().index[-1]\n",
        "    quantity_worst_selling_product = loja2['Produto'].value_counts().iloc[-1]\n",
        "\n",
        "  if i == 2:\n",
        "    best_selling_product = loja3['Produto'].value_counts().index[0]\n",
        "    quantity_best_selling_product = loja3['Produto'].value_counts().iloc[0]\n",
        "    worst_selling_product = loja3['Produto'].value_counts().index[-1]\n",
        "    quantity_worst_selling_product = loja3['Produto'].value_counts().iloc[-1]\n",
        "\n",
        "  if i == 3:\n",
        "    best_selling_product = loja4['Produto'].value_counts().index[0]\n",
        "    quantity_best_selling_product = loja4['Produto'].value_counts().iloc[0]\n",
        "    worst_selling_product = loja4['Produto'].value_counts().index[-1]\n",
        "    quantity_worst_selling_product = loja4['Produto'].value_counts().iloc[-1]\n",
        "\n",
        "  print(f\"Loja {i+1} - Produto mais vendido '{best_selling_product}' com {quantity_best_selling_product} vendas \\n\\t Produto menos vendido '{worst_selling_product}' com {quantity_worst_selling_product} vendas\\n\")"
      ],
      "metadata": {
        "id": "0Sw3sd4IZIGW",
        "outputId": "bd7893eb-31e5-4314-edfd-b8decdfd290e",
        "colab": {
          "base_uri": "https://localhost:8080/"
        }
      },
      "execution_count": 21,
      "outputs": [
        {
          "output_type": "stream",
          "name": "stdout",
          "text": [
            "Produto mais vendido e menos vendido de cada Loja:\n",
            "\n",
            "Loja 1 - Produto mais vendido 'Micro-ondas' com 60 vendas \n",
            "\t Produto menos vendido 'Celular ABXY' com 33 vendas\n",
            "\n",
            "Loja 2 - Produto mais vendido 'Iniciando em programação' com 65 vendas \n",
            "\t Produto menos vendido 'Jogo de tabuleiro' com 32 vendas\n",
            "\n",
            "Loja 3 - Produto mais vendido 'Kit banquetas' com 57 vendas \n",
            "\t Produto menos vendido 'Blocos de montar' com 35 vendas\n",
            "\n",
            "Loja 4 - Produto mais vendido 'Cama box' com 62 vendas \n",
            "\t Produto menos vendido 'Guitarra' com 33 vendas\n",
            "\n"
          ]
        }
      ]
    },
    {
      "cell_type": "markdown",
      "source": [
        "# 5. Frete Médio por Loja\n"
      ],
      "metadata": {
        "id": "Fl0cGi3bZKqU"
      }
    },
    {
      "cell_type": "code",
      "source": [
        "print(\"Média de frete de cada Loja:\\n\")\n",
        "\n",
        "average = 0.0\n",
        "\n",
        "for i in range(0,4):\n",
        "  if i == 0:\n",
        "    average = loja1['Frete'].mean().round(2)\n",
        "\n",
        "  if i == 1:\n",
        "    average = loja2['Frete'].mean().round(2)\n",
        "\n",
        "  if i == 2:\n",
        "    average = loja3['Frete'].mean().round(2)\n",
        "\n",
        "  if i == 3:\n",
        "    average = loja4['Frete'].mean().round(2)\n",
        "\n",
        "  print(f\"Loja {i+1} - Frete médio é {average}\\n\")"
      ],
      "metadata": {
        "id": "0tSdCie9ZQlt",
        "outputId": "17e2b5a8-3224-4ecd-a562-ba62788002d3",
        "colab": {
          "base_uri": "https://localhost:8080/"
        }
      },
      "execution_count": 26,
      "outputs": [
        {
          "output_type": "stream",
          "name": "stdout",
          "text": [
            "Média de frete de cada Loja:\n",
            "\n",
            "Loja 1 - Frete médio é 34.69\n",
            "\n",
            "Loja 2 - Frete médio é 33.62\n",
            "\n",
            "Loja 3 - Frete médio é 33.07\n",
            "\n",
            "Loja 4 - Frete médio é 31.28\n",
            "\n"
          ]
        }
      ]
    }
  ]
}